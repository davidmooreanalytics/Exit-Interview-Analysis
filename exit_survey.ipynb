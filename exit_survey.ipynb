{
 "cells": [
  {
   "cell_type": "markdown",
   "source": [
    "## An Analysis of The Australian Deparatment of Education's Exit Surveys\n",
    "The purpose of this project is to simulate a request from a company's stakeholders to explore two questions:\n",
    "1. Are employees who only worked for the institutes for a short period of time resigning due to some kind of dissatisfaction?  Additionally, are there any underlying reasons for a more tenured employee's departure?\n",
    "2. Are younger employees resigning due to some kind of dissatisfaction?  Are older employees resigning for similar reasons?"
   ],
   "metadata": {
    "collapsed": false
   }
  },
  {
   "cell_type": "markdown",
   "source": [
    "A data dictionary has not been provided for the dataset, therefore I will infer each columns meaning.  In a professional setting, a meeting with the project's manager would be coordinated to confirm.\n",
    "- **ID**: An id used to identify the participant of the survey\n",
    "- **SeparationType**: The Reason why the person's employment ended\n",
    "- **Cease**: Date: The year or month the person's employment ended\n",
    "- **DETE**: Start Date: The year the person began employement with the DETE (Department of Education, Training and Employement)\n",
    "- The instructions provided by the simulated manager were to disregard columns 28-48 and will subsequently be dropped."
   ],
   "metadata": {
    "collapsed": false
   }
  },
  {
   "cell_type": "code",
   "execution_count": 1,
   "metadata": {
    "collapsed": true
   },
   "outputs": [],
   "source": [
    "import pandas as pd"
   ]
  },
  {
   "cell_type": "code",
   "execution_count": 2,
   "outputs": [],
   "source": [
    "dete_survey = pd.read_csv('dete-exit-survey-january-2014.csv', na_values='Not Stated')"
   ],
   "metadata": {
    "collapsed": false,
    "pycharm": {
     "name": "#%%\n"
    }
   }
  },
  {
   "cell_type": "code",
   "execution_count": 3,
   "outputs": [
    {
     "name": "stdout",
     "output_type": "stream",
     "text": [
      "<class 'pandas.core.frame.DataFrame'>\n",
      "RangeIndex: 822 entries, 0 to 821\n",
      "Data columns (total 56 columns):\n",
      " #   Column                               Non-Null Count  Dtype  \n",
      "---  ------                               --------------  -----  \n",
      " 0   ID                                   822 non-null    int64  \n",
      " 1   SeparationType                       822 non-null    object \n",
      " 2   Cease Date                           788 non-null    object \n",
      " 3   DETE Start Date                      749 non-null    float64\n",
      " 4   Role Start Date                      724 non-null    float64\n",
      " 5   Position                             817 non-null    object \n",
      " 6   Classification                       455 non-null    object \n",
      " 7   Region                               717 non-null    object \n",
      " 8   Business Unit                        126 non-null    object \n",
      " 9   Employment Status                    817 non-null    object \n",
      " 10  Career move to public sector         822 non-null    bool   \n",
      " 11  Career move to private sector        822 non-null    bool   \n",
      " 12  Interpersonal conflicts              822 non-null    bool   \n",
      " 13  Job dissatisfaction                  822 non-null    bool   \n",
      " 14  Dissatisfaction with the department  822 non-null    bool   \n",
      " 15  Physical work environment            822 non-null    bool   \n",
      " 16  Lack of recognition                  822 non-null    bool   \n",
      " 17  Lack of job security                 822 non-null    bool   \n",
      " 18  Work location                        822 non-null    bool   \n",
      " 19  Employment conditions                822 non-null    bool   \n",
      " 20  Maternity/family                     822 non-null    bool   \n",
      " 21  Relocation                           822 non-null    bool   \n",
      " 22  Study/Travel                         822 non-null    bool   \n",
      " 23  Ill Health                           822 non-null    bool   \n",
      " 24  Traumatic incident                   822 non-null    bool   \n",
      " 25  Work life balance                    822 non-null    bool   \n",
      " 26  Workload                             822 non-null    bool   \n",
      " 27  None of the above                    822 non-null    bool   \n",
      " 28  Professional Development             808 non-null    object \n",
      " 29  Opportunities for promotion          735 non-null    object \n",
      " 30  Staff morale                         816 non-null    object \n",
      " 31  Workplace issue                      788 non-null    object \n",
      " 32  Physical environment                 817 non-null    object \n",
      " 33  Worklife balance                     815 non-null    object \n",
      " 34  Stress and pressure support          810 non-null    object \n",
      " 35  Performance of supervisor            813 non-null    object \n",
      " 36  Peer support                         812 non-null    object \n",
      " 37  Initiative                           813 non-null    object \n",
      " 38  Skills                               811 non-null    object \n",
      " 39  Coach                                767 non-null    object \n",
      " 40  Career Aspirations                   746 non-null    object \n",
      " 41  Feedback                             792 non-null    object \n",
      " 42  Further PD                           768 non-null    object \n",
      " 43  Communication                        814 non-null    object \n",
      " 44  My say                               812 non-null    object \n",
      " 45  Information                          816 non-null    object \n",
      " 46  Kept informed                        813 non-null    object \n",
      " 47  Wellness programs                    766 non-null    object \n",
      " 48  Health & Safety                      793 non-null    object \n",
      " 49  Gender                               798 non-null    object \n",
      " 50  Age                                  811 non-null    object \n",
      " 51  Aboriginal                           16 non-null     object \n",
      " 52  Torres Strait                        3 non-null      object \n",
      " 53  South Sea                            7 non-null      object \n",
      " 54  Disability                           23 non-null     object \n",
      " 55  NESB                                 32 non-null     object \n",
      "dtypes: bool(18), float64(2), int64(1), object(35)\n",
      "memory usage: 258.6+ KB\n"
     ]
    }
   ],
   "source": [
    "dete_survey.info()"
   ],
   "metadata": {
    "collapsed": false,
    "pycharm": {
     "name": "#%%\n"
    }
   }
  },
  {
   "cell_type": "markdown",
   "source": [
    "**Observations**:\n",
    "- We can see that there are 55 total categories and 822 rows\n",
    "- Some categories are almost entirely consisting of null values (Torres Strait, Aboriginal, Disability, NESB, etc...)\n",
    "- Further examination of these rows will be required to determine if they were purposely left blank instead of missing data"
   ],
   "metadata": {
    "collapsed": false
   }
  },
  {
   "cell_type": "markdown",
   "source": [
    "**Prompt Instructrion**\n",
    "- The \"employer\" has specified that they are not interested in columns 28-48 and therefore will be discarded from our dataset."
   ],
   "metadata": {
    "collapsed": false
   }
  },
  {
   "cell_type": "code",
   "execution_count": 4,
   "outputs": [],
   "source": [
    "dete_survey_updated = dete_survey.drop(dete_survey.columns[28:49], axis=1)"
   ],
   "metadata": {
    "collapsed": false,
    "pycharm": {
     "name": "#%%\n"
    }
   }
  },
  {
   "cell_type": "code",
   "execution_count": 5,
   "outputs": [
    {
     "name": "stdout",
     "output_type": "stream",
     "text": [
      "<class 'pandas.core.frame.DataFrame'>\n",
      "RangeIndex: 822 entries, 0 to 821\n",
      "Data columns (total 35 columns):\n",
      " #   Column                               Non-Null Count  Dtype  \n",
      "---  ------                               --------------  -----  \n",
      " 0   ID                                   822 non-null    int64  \n",
      " 1   SeparationType                       822 non-null    object \n",
      " 2   Cease Date                           788 non-null    object \n",
      " 3   DETE Start Date                      749 non-null    float64\n",
      " 4   Role Start Date                      724 non-null    float64\n",
      " 5   Position                             817 non-null    object \n",
      " 6   Classification                       455 non-null    object \n",
      " 7   Region                               717 non-null    object \n",
      " 8   Business Unit                        126 non-null    object \n",
      " 9   Employment Status                    817 non-null    object \n",
      " 10  Career move to public sector         822 non-null    bool   \n",
      " 11  Career move to private sector        822 non-null    bool   \n",
      " 12  Interpersonal conflicts              822 non-null    bool   \n",
      " 13  Job dissatisfaction                  822 non-null    bool   \n",
      " 14  Dissatisfaction with the department  822 non-null    bool   \n",
      " 15  Physical work environment            822 non-null    bool   \n",
      " 16  Lack of recognition                  822 non-null    bool   \n",
      " 17  Lack of job security                 822 non-null    bool   \n",
      " 18  Work location                        822 non-null    bool   \n",
      " 19  Employment conditions                822 non-null    bool   \n",
      " 20  Maternity/family                     822 non-null    bool   \n",
      " 21  Relocation                           822 non-null    bool   \n",
      " 22  Study/Travel                         822 non-null    bool   \n",
      " 23  Ill Health                           822 non-null    bool   \n",
      " 24  Traumatic incident                   822 non-null    bool   \n",
      " 25  Work life balance                    822 non-null    bool   \n",
      " 26  Workload                             822 non-null    bool   \n",
      " 27  None of the above                    822 non-null    bool   \n",
      " 28  Gender                               798 non-null    object \n",
      " 29  Age                                  811 non-null    object \n",
      " 30  Aboriginal                           16 non-null     object \n",
      " 31  Torres Strait                        3 non-null      object \n",
      " 32  South Sea                            7 non-null      object \n",
      " 33  Disability                           23 non-null     object \n",
      " 34  NESB                                 32 non-null     object \n",
      "dtypes: bool(18), float64(2), int64(1), object(14)\n",
      "memory usage: 123.7+ KB\n"
     ]
    }
   ],
   "source": [
    "dete_survey_updated.info()"
   ],
   "metadata": {
    "collapsed": false,
    "pycharm": {
     "name": "#%%\n"
    }
   }
  },
  {
   "cell_type": "markdown",
   "source": [
    "**Prompt Instruction**\n",
    "- The \"project manager\" has requested that all columns be uniform.  Their preference is to have all columns lower case and converted to snake_case.  The code below will satisfy their standards."
   ],
   "metadata": {
    "collapsed": false
   }
  },
  {
   "cell_type": "code",
   "execution_count": 6,
   "outputs": [
    {
     "name": "stderr",
     "output_type": "stream",
     "text": [
      "C:\\Users\\moore\\AppData\\Local\\Temp\\ipykernel_13316\\1671676807.py:1: FutureWarning: The default value of regex will change from True to False in a future version.\n",
      "  dete_survey_updated.columns = dete_survey_updated.columns.str.replace('\\s+', '_').str.strip().str.lower()\n"
     ]
    }
   ],
   "source": [
    "dete_survey_updated.columns = dete_survey_updated.columns.str.replace('\\s+', '_').str.strip().str.lower()"
   ],
   "metadata": {
    "collapsed": false,
    "pycharm": {
     "name": "#%%\n"
    }
   }
  },
  {
   "cell_type": "code",
   "execution_count": 7,
   "outputs": [
    {
     "name": "stdout",
     "output_type": "stream",
     "text": [
      "<class 'pandas.core.frame.DataFrame'>\n",
      "RangeIndex: 822 entries, 0 to 821\n",
      "Data columns (total 35 columns):\n",
      " #   Column                               Non-Null Count  Dtype  \n",
      "---  ------                               --------------  -----  \n",
      " 0   id                                   822 non-null    int64  \n",
      " 1   separationtype                       822 non-null    object \n",
      " 2   cease_date                           788 non-null    object \n",
      " 3   dete_start_date                      749 non-null    float64\n",
      " 4   role_start_date                      724 non-null    float64\n",
      " 5   position                             817 non-null    object \n",
      " 6   classification                       455 non-null    object \n",
      " 7   region                               717 non-null    object \n",
      " 8   business_unit                        126 non-null    object \n",
      " 9   employment_status                    817 non-null    object \n",
      " 10  career_move_to_public_sector         822 non-null    bool   \n",
      " 11  career_move_to_private_sector        822 non-null    bool   \n",
      " 12  interpersonal_conflicts              822 non-null    bool   \n",
      " 13  job_dissatisfaction                  822 non-null    bool   \n",
      " 14  dissatisfaction_with_the_department  822 non-null    bool   \n",
      " 15  physical_work_environment            822 non-null    bool   \n",
      " 16  lack_of_recognition                  822 non-null    bool   \n",
      " 17  lack_of_job_security                 822 non-null    bool   \n",
      " 18  work_location                        822 non-null    bool   \n",
      " 19  employment_conditions                822 non-null    bool   \n",
      " 20  maternity/family                     822 non-null    bool   \n",
      " 21  relocation                           822 non-null    bool   \n",
      " 22  study/travel                         822 non-null    bool   \n",
      " 23  ill_health                           822 non-null    bool   \n",
      " 24  traumatic_incident                   822 non-null    bool   \n",
      " 25  work_life_balance                    822 non-null    bool   \n",
      " 26  workload                             822 non-null    bool   \n",
      " 27  none_of_the_above                    822 non-null    bool   \n",
      " 28  gender                               798 non-null    object \n",
      " 29  age                                  811 non-null    object \n",
      " 30  aboriginal                           16 non-null     object \n",
      " 31  torres_strait                        3 non-null      object \n",
      " 32  south_sea                            7 non-null      object \n",
      " 33  disability                           23 non-null     object \n",
      " 34  nesb                                 32 non-null     object \n",
      "dtypes: bool(18), float64(2), int64(1), object(14)\n",
      "memory usage: 123.7+ KB\n"
     ]
    }
   ],
   "source": [
    "dete_survey_updated.info()"
   ],
   "metadata": {
    "collapsed": false,
    "pycharm": {
     "name": "#%%\n"
    }
   }
  },
  {
   "cell_type": "markdown",
   "source": [
    "**Prompt Note**\n",
    "- The purpose of this assignment is to probe survey respondents who have resigned.  The code below demonstrates that there are three different resignation categories and will need to be accounted for individually to ensure that no relevant data is dropped."
   ],
   "metadata": {
    "collapsed": false
   }
  },
  {
   "cell_type": "code",
   "execution_count": 8,
   "outputs": [
    {
     "data": {
      "text/plain": "array(['Ill Health Retirement', 'Voluntary Early Retirement (VER)',\n       'Resignation-Other reasons', 'Age Retirement',\n       'Resignation-Other employer',\n       'Resignation-Move overseas/interstate', 'Other',\n       'Contract Expired', 'Termination'], dtype=object)"
     },
     "execution_count": 8,
     "metadata": {},
     "output_type": "execute_result"
    }
   ],
   "source": [
    "dete_survey_updated['separationtype'].unique()"
   ],
   "metadata": {
    "collapsed": false,
    "pycharm": {
     "name": "#%%\n"
    }
   }
  },
  {
   "cell_type": "code",
   "execution_count": 9,
   "outputs": [],
   "source": [
    "target = ['Resignation-Other reasons','Resignation-Other employer','Resignation-Move overseas'\n",
    "                                                                   '/interstate']\n",
    "dete_resignation = dete_survey_updated[dete_survey_updated['separationtype'].isin(target)].copy()"
   ],
   "metadata": {
    "collapsed": false,
    "pycharm": {
     "name": "#%%\n"
    }
   }
  },
  {
   "cell_type": "markdown",
   "source": [
    "**Observation**\n",
    "- Now that the scope of the dataset is constrained to the request of the \"employer\", I will begin to explore the data to ensure that it is of the right type to manipulate.\n",
    "- I immediately found that the date section was of type string and has two different methods of entry.  In order to rectify this, I will need to separate the last 4 numbers of the cell and add it to 20"
   ],
   "metadata": {
    "collapsed": false
   }
  },
  {
   "cell_type": "code",
   "execution_count": 10,
   "outputs": [
    {
     "name": "stdout",
     "output_type": "stream",
     "text": [
      "<class 'pandas.core.series.Series'>\n",
      "Int64Index: 311 entries, 3 to 821\n",
      "Series name: cease_date\n",
      "Non-Null Count  Dtype \n",
      "--------------  ----- \n",
      "300 non-null    object\n",
      "dtypes: object(1)\n",
      "memory usage: 4.9+ KB\n"
     ]
    }
   ],
   "source": [
    "dete_resignation['cease_date'].info()\n",
    "dete_resignation['cease_date'] = dete_resignation['cease_date'].str.split('/').str[-1]\n",
    "dete_resignation['cease_date'] = dete_resignation['cease_date'].astype(float)"
   ],
   "metadata": {
    "collapsed": false,
    "pycharm": {
     "name": "#%%\n"
    }
   }
  },
  {
   "cell_type": "code",
   "execution_count": 11,
   "outputs": [
    {
     "name": "stdout",
     "output_type": "stream",
     "text": [
      "2014.0     22\n",
      "2013.0    146\n",
      "2012.0    129\n",
      "2010.0      2\n",
      "2006.0      1\n",
      "Name: cease_date, dtype: int64\n"
     ]
    }
   ],
   "source": [
    "print(dete_resignation['cease_date'].value_counts().sort_index(ascending=False))"
   ],
   "metadata": {
    "collapsed": false,
    "pycharm": {
     "name": "#%%\n"
    }
   }
  },
  {
   "cell_type": "markdown",
   "source": [
    "**Observations**\n",
    "- We do not need to repeat this process on the start_date column as the data is already in the format needed (demonstrated below).\n",
    "- For ease of analysis I will create an additional row that contains the years of service for each employee."
   ],
   "metadata": {
    "collapsed": false
   }
  },
  {
   "cell_type": "code",
   "execution_count": 12,
   "outputs": [
    {
     "name": "stdout",
     "output_type": "stream",
     "text": [
      "<class 'numpy.float64'>\n"
     ]
    }
   ],
   "source": [
    "start = dete_resignation['dete_start_date']\n",
    "print(type(start.iloc[0]))"
   ],
   "metadata": {
    "collapsed": false,
    "pycharm": {
     "name": "#%%\n"
    }
   }
  },
  {
   "cell_type": "code",
   "execution_count": 13,
   "outputs": [],
   "source": [
    "service = dete_resignation['cease_date']-dete_resignation['dete_start_date']"
   ],
   "metadata": {
    "collapsed": false,
    "pycharm": {
     "name": "#%%\n"
    }
   }
  },
  {
   "cell_type": "code",
   "execution_count": 14,
   "outputs": [],
   "source": [
    "dete_resignation['institute_service'] = service"
   ],
   "metadata": {
    "collapsed": false,
    "pycharm": {
     "name": "#%%\n"
    }
   }
  },
  {
   "cell_type": "code",
   "execution_count": 15,
   "outputs": [
    {
     "data": {
      "text/plain": "49.0     1\n42.0     1\n41.0     1\n39.0     3\n38.0     1\n36.0     2\n35.0     1\n34.0     1\n33.0     1\n32.0     3\n31.0     1\n30.0     2\n29.0     1\n28.0     2\n27.0     1\n26.0     2\n25.0     2\n24.0     4\n23.0     4\n22.0     6\n21.0     3\n20.0     7\n19.0     3\n18.0     5\n17.0     6\n16.0     5\n15.0     7\n14.0     6\n13.0     8\n12.0     6\n11.0     4\n10.0     6\n9.0     14\n8.0      8\n7.0     13\n6.0     17\n5.0     23\n4.0     16\n3.0     20\n2.0     14\n1.0     22\n0.0     20\nName: institute_service, dtype: int64"
     },
     "execution_count": 15,
     "metadata": {},
     "output_type": "execute_result"
    }
   ],
   "source": [
    "dete_resignation['institute_service'].value_counts().sort_index(ascending=False)"
   ],
   "metadata": {
    "collapsed": false,
    "pycharm": {
     "name": "#%%\n"
    }
   }
  },
  {
   "cell_type": "markdown",
   "source": [
    "**Categorization**\n",
    "- Now that the date sections have been cleaned and length of employment determined, we can categorize it into quantifiable bins.\n",
    "- The \"Data Manager\" has requested that all employment be categorized as the following:\n",
    "    - **New**: Less than 3 years at a company.\n",
    "    - **Experienced**: 3-6 years at a company.\n",
    "    - **Established**: 7-10 years at a company.\n",
    "    - **Veteran**: 11 or more years at a company.\n",
    "- The \"Data Manager\" has also requested that any dissatisfied response be converted into a new boolean column for easy analysis.  The categories can be seen in the _cats_ list."
   ],
   "metadata": {
    "collapsed": false
   }
  },
  {
   "cell_type": "code",
   "execution_count": 16,
   "outputs": [],
   "source": [
    "def service_map(year):\n",
    "    if year<3:\n",
    "        val = 'New'\n",
    "    elif 3<=year<=6:\n",
    "        val = 'Experienced'\n",
    "    elif 7<=year<=10:\n",
    "        val = 'Established'\n",
    "    elif 10<year:\n",
    "        val = 'Veteran'\n",
    "    else:\n",
    "        val = 'NaN'\n",
    "    return val\n",
    "\n",
    "dete_resignation['service_cat'] = dete_resignation['institute_service'].apply(service_map)"
   ],
   "metadata": {
    "collapsed": false,
    "pycharm": {
     "name": "#%%\n"
    }
   }
  },
  {
   "cell_type": "markdown",
   "source": [],
   "metadata": {
    "collapsed": false
   }
  },
  {
   "cell_type": "code",
   "execution_count": 17,
   "outputs": [
    {
     "name": "stdout",
     "output_type": "stream",
     "text": [
      "Veteran        100\n",
      "Experienced     76\n",
      "New             56\n",
      "Established     41\n",
      "NaN             38\n",
      "Name: service_cat, dtype: int64\n",
      "311\n"
     ]
    }
   ],
   "source": [
    "print(dete_resignation['service_cat'].value_counts())\n",
    "print(dete_resignation['service_cat'].value_counts().sum())"
   ],
   "metadata": {
    "collapsed": false,
    "pycharm": {
     "name": "#%%\n"
    }
   }
  },
  {
   "cell_type": "code",
   "execution_count": 18,
   "outputs": [],
   "source": [
    "cats = ['job_dissatisfaction','dissatisfaction_with_the_department',\n",
    "        'physical_work_environment','lack_of_recognition','work_location','employment_conditions','employment_conditions','work_life_balance','workload']\n",
    "dete_resignation['dissatisfied'] = dete_resignation[cats].any(axis=1,skipna=False)"
   ],
   "metadata": {
    "collapsed": false,
    "pycharm": {
     "name": "#%%\n"
    }
   }
  },
  {
   "cell_type": "code",
   "execution_count": 19,
   "outputs": [
    {
     "name": "stdout",
     "output_type": "stream",
     "text": [
      "False    167\n",
      "True     144\n",
      "Name: dissatisfied, dtype: int64\n",
      "311\n"
     ]
    }
   ],
   "source": [
    "print(dete_resignation['dissatisfied'].value_counts())\n",
    "print(dete_resignation['dissatisfied'].value_counts().sum())"
   ],
   "metadata": {
    "collapsed": false,
    "pycharm": {
     "name": "#%%\n"
    }
   }
  },
  {
   "cell_type": "code",
   "execution_count": 20,
   "outputs": [
    {
     "data": {
      "text/plain": "41-45            48\n46-50            42\n36-40            41\n26-30            35\n51-55            32\n31-35            29\n21-25            29\n56-60            26\n61 or older      23\n20 or younger     1\nName: age, dtype: int64"
     },
     "execution_count": 20,
     "metadata": {},
     "output_type": "execute_result"
    }
   ],
   "source": [
    "dete_resignation['age'].value_counts()"
   ],
   "metadata": {
    "collapsed": false,
    "pycharm": {
     "name": "#%%\n"
    }
   }
  },
  {
   "cell_type": "markdown",
   "source": [
    "**Explanation**\n",
    "- The value counts sum has been included to ensure that there are an equal amount of values between rows that will be analyzed."
   ],
   "metadata": {
    "collapsed": false
   }
  },
  {
   "cell_type": "code",
   "execution_count": 21,
   "outputs": [
    {
     "data": {
      "text/plain": "<AxesSubplot:title={'center':'Proportion of Dissatisfied Employees By Experience Level'}, xlabel='Service Category', ylabel='Proportion of Employees Dissatisfied'>"
     },
     "execution_count": 21,
     "metadata": {},
     "output_type": "execute_result"
    },
    {
     "data": {
      "text/plain": "<Figure size 432x288 with 1 Axes>",
      "image/png": "[encoded data removed]"
     },
     "metadata": {
      "needs_background": "light"
     },
     "output_type": "display_data"
    }
   ],
   "source": [
    "pivot = dete_resignation.pivot_table(values='dissatisfied', index='service_cat')\n",
    "%matplotlib inline\n",
    "pivot.plot(kind='bar', title='Proportion of Dissatisfied Employees By Experience Level',\n",
    "           xlabel='Service Category',ylabel='Proportion of Employees Dissatisfied')"
   ],
   "metadata": {
    "collapsed": false,
    "pycharm": {
     "name": "#%%\n"
    }
   }
  },
  {
   "cell_type": "markdown",
   "source": [
    "**Observation**\n",
    "- From the barchart, we can see that roughly 60% of Established employees and Veteran employees are resigning due to dissatisfaction with their job.\n",
    "- These findings are quite alarming and confirm our employer's suspicion that the company is losing more tenured employees due to an issue with the job itself."
   ],
   "metadata": {
    "collapsed": false
   }
  },
  {
   "cell_type": "code",
   "execution_count": 25,
   "outputs": [
    {
     "data": {
      "text/plain": "<AxesSubplot:title={'center':'Proportion of Dissatisfied Employees By Age'}, xlabel='age', ylabel='Proportion of Employees Dissatisfied'>"
     },
     "execution_count": 25,
     "metadata": {},
     "output_type": "execute_result"
    },
    {
     "data": {
      "text/plain": "<Figure size 432x288 with 1 Axes>",
      "image/png": "[encoded data removed]"
     },
     "metadata": {
      "needs_background": "light"
     },
     "output_type": "display_data"
    }
   ],
   "source": [
    "age_pivot = dete_resignation.pivot_table(values='dissatisfied', index='age')\n",
    "%matplotlib inline\n",
    "age_pivot.plot(kind='bar', title='Proportion of Dissatisfied Employees By Age',\n",
    "           ylabel='Proportion of Employees Dissatisfied')"
   ],
   "metadata": {
    "collapsed": false,
    "pycharm": {
     "name": "#%%\n"
    }
   }
  },
  {
   "cell_type": "markdown",
   "source": [
    "**Observations**\n",
    "- Breaking down the resignations by age confirms what we saw above.  Younger employees (under 25 years old) are generally not leaving due to dissatisfaction, while older, more experienced employees are leaving due to some misgiving with the company.\n",
    "- It is interesting to note that the ages associated with being established, but not veteran, at the company are more satisfied with the company upon departure than their cohorts.\n",
    "- As more retire-aged employees are citing dissatisfaction, I would also recommend asking exit interview questions that probe their general satisfaction with the industry as well.  While there are always improvements that can be made within the company, general changes to the industry may also be fueling their resignations."
   ],
   "metadata": {
    "collapsed": false,
    "pycharm": {
     "name": "#%% md\n"
    }
   }
  },
  {
   "cell_type": "code",
   "execution_count": null,
   "outputs": [],
   "source": [],
   "metadata": {
    "collapsed": false,
    "pycharm": {
     "name": "#%%\n"
    }
   }
  }
 ],
 "metadata": {
  "kernelspec": {
   "display_name": "Python 3",
   "language": "python",
   "name": "python3"
  },
  "language_info": {
   "codemirror_mode": {
    "name": "ipython",
    "version": 2
   },
   "file_extension": ".py",
   "mimetype": "text/x-python",
   "name": "python",
   "nbconvert_exporter": "python",
   "pygments_lexer": "ipython2",
   "version": "2.7.6"
  }
 },
 "nbformat": 4,
 "nbformat_minor": 0
}